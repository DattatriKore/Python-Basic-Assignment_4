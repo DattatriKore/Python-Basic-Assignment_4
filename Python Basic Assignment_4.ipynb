{
 "cells": [
  {
   "cell_type": "markdown",
   "id": "fcd2ef55",
   "metadata": {},
   "source": [
    "Q.[1] : What exactly is []?\n",
    "\n",
    "Ans:- [] is a emplty list, like a =[]"
   ]
  },
  {
   "cell_type": "markdown",
   "id": "11990d18",
   "metadata": {},
   "source": [
    "Q.[2] : In a list of values stored in a variable called spam, how would you assign the value 'hello' as the third value?            (Assume [2, 4, 6, 8, 10] are in spam.)\n",
    "\n",
    "Ans:- "
   ]
  },
  {
   "cell_type": "code",
   "execution_count": 1,
   "id": "31e0b499",
   "metadata": {},
   "outputs": [
    {
     "data": {
      "text/plain": [
       "[2, 4, 'hello', 8, 10]"
      ]
     },
     "execution_count": 1,
     "metadata": {},
     "output_type": "execute_result"
    }
   ],
   "source": [
    "spam = [2, 4, 6, 8, 10]\n",
    "spam[2] = \"hello\"\n",
    "spam"
   ]
  },
  {
   "cell_type": "markdown",
   "id": "a894db71",
   "metadata": {},
   "source": [
    "Lets pretend the spam includes the list ['a', 'b','c','d'] for the next three queries."
   ]
  },
  {
   "cell_type": "markdown",
   "id": "2e4c9251",
   "metadata": {},
   "source": [
    "Q.[3] : What is the value of spam[int(int('3'*2) / 11)]?\n",
    "\n",
    "Ans:- 'd'"
   ]
  },
  {
   "cell_type": "code",
   "execution_count": 3,
   "id": "3411deed",
   "metadata": {},
   "outputs": [
    {
     "data": {
      "text/plain": [
       "'d'"
      ]
     },
     "execution_count": 3,
     "metadata": {},
     "output_type": "execute_result"
    }
   ],
   "source": [
    "spam = ['a','b','c','d']\n",
    "spam[int(int('3'*2)/11)]"
   ]
  },
  {
   "cell_type": "markdown",
   "id": "48e3a484",
   "metadata": {},
   "source": [
    "Q.[4] : What is the value of spam[-1]?\n",
    "\n",
    "Ans:-  'd'"
   ]
  },
  {
   "cell_type": "code",
   "execution_count": 5,
   "id": "58c6225e",
   "metadata": {},
   "outputs": [
    {
     "data": {
      "text/plain": [
       "'d'"
      ]
     },
     "execution_count": 5,
     "metadata": {},
     "output_type": "execute_result"
    }
   ],
   "source": [
    "spam = ['a','b','c','d']\n",
    "spam[-1]"
   ]
  },
  {
   "cell_type": "markdown",
   "id": "af6800e3",
   "metadata": {},
   "source": [
    "Q.[5] : What is the value of spam[:2]?\n",
    "    \n",
    "Ans:- ['a', 'b']"
   ]
  },
  {
   "cell_type": "code",
   "execution_count": 9,
   "id": "66a17d88",
   "metadata": {},
   "outputs": [
    {
     "data": {
      "text/plain": [
       "['a', 'b']"
      ]
     },
     "execution_count": 9,
     "metadata": {},
     "output_type": "execute_result"
    }
   ],
   "source": [
    "spam = ['a','b','c','d']\n",
    "spam[:2]"
   ]
  },
  {
   "cell_type": "markdown",
   "id": "387faa97",
   "metadata": {},
   "source": [
    "Let's pretend bacon has the list [3.14,'cat',11,'cat',True] for the next three questions."
   ]
  },
  {
   "cell_type": "markdown",
   "id": "8d5450d9",
   "metadata": {},
   "source": [
    "Q.[6] : What is the value of bacon.index('cat')?\n",
    "\n",
    "Ans:- 1"
   ]
  },
  {
   "cell_type": "code",
   "execution_count": 10,
   "id": "eb94e960",
   "metadata": {},
   "outputs": [
    {
     "data": {
      "text/plain": [
       "1"
      ]
     },
     "execution_count": 10,
     "metadata": {},
     "output_type": "execute_result"
    }
   ],
   "source": [
    "bacon = [3.14,'cat',11,'cat',True]\n",
    "bacon.index('cat')"
   ]
  },
  {
   "cell_type": "markdown",
   "id": "0bb78d72",
   "metadata": {},
   "source": [
    "Q.[7] : How does bacon.append(99) change the look of the list value in bacon?\n",
    "\n",
    "Ans:-  [3.14, 'cat', 11, 'cat', True, 99]"
   ]
  },
  {
   "cell_type": "code",
   "execution_count": 13,
   "id": "945dfb92",
   "metadata": {},
   "outputs": [
    {
     "data": {
      "text/plain": [
       "[3.14, 'cat', 11, 'cat', True, 99]"
      ]
     },
     "execution_count": 13,
     "metadata": {},
     "output_type": "execute_result"
    }
   ],
   "source": [
    "bacon = [3.14,'cat',11,'cat',True]\n",
    "bacon.append(99)\n",
    "bacon"
   ]
  },
  {
   "cell_type": "markdown",
   "id": "888da1e5",
   "metadata": {},
   "source": [
    "Q.[8] : How does bacon.remove('cat') change the look of the list in bacon?\n",
    "\n",
    "Ans:-  [3.14, 11, 'cat', True]"
   ]
  },
  {
   "cell_type": "code",
   "execution_count": 16,
   "id": "339d7b5a",
   "metadata": {},
   "outputs": [
    {
     "data": {
      "text/plain": [
       "[3.14, 11, 'cat', True]"
      ]
     },
     "execution_count": 16,
     "metadata": {},
     "output_type": "execute_result"
    }
   ],
   "source": [
    "bacon = [3.14,'cat',11,'cat',True]\n",
    "bacon.remove('cat')\n",
    "bacon"
   ]
  },
  {
   "cell_type": "markdown",
   "id": "7c5b11a0",
   "metadata": {},
   "source": [
    "Q.[9] : What are the list concatenation and list replication operators?\n",
    "\n",
    "Ans:-  \n",
    "      \n",
    "      + -> is list cancatination operator\n",
    "      * -> is list replication operatotor      "
   ]
  },
  {
   "cell_type": "code",
   "execution_count": 19,
   "id": "e2ad7612",
   "metadata": {},
   "outputs": [
    {
     "data": {
      "text/plain": [
       "[1, 2, 3, 4, 5, 6]"
      ]
     },
     "execution_count": 19,
     "metadata": {},
     "output_type": "execute_result"
    }
   ],
   "source": [
    "l1 = [1,2,3]\n",
    "l2 = [4,5,6]\n",
    "\n",
    "# list concatenation operator\n",
    "l1 + l2"
   ]
  },
  {
   "cell_type": "code",
   "execution_count": 20,
   "id": "510ff48a",
   "metadata": {},
   "outputs": [
    {
     "data": {
      "text/plain": [
       "[1, 2, 3, 1, 2, 3]"
      ]
     },
     "execution_count": 20,
     "metadata": {},
     "output_type": "execute_result"
    }
   ],
   "source": [
    "l = [1,2,3]\n",
    "\n",
    "# list replication operators\n",
    "l*2"
   ]
  },
  {
   "cell_type": "markdown",
   "id": "762899c9",
   "metadata": {},
   "source": [
    "Q.[10] : What is difference between the list methods append() and insert()?\n",
    "\n",
    "Ans:-  \n",
    "\n",
    "      append() -> Append object to the end of the list\n",
    "      insert() -> Insert object before index"
   ]
  },
  {
   "cell_type": "code",
   "execution_count": 23,
   "id": "c291b65d",
   "metadata": {},
   "outputs": [
    {
     "data": {
      "text/plain": [
       "[2, 8, 6, 5, 20]"
      ]
     },
     "execution_count": 23,
     "metadata": {},
     "output_type": "execute_result"
    }
   ],
   "source": [
    "l = [2,8,6,5]\n",
    "l.append(20) # Append object to the end of the list\n",
    "l"
   ]
  },
  {
   "cell_type": "code",
   "execution_count": 25,
   "id": "ea2515bd",
   "metadata": {},
   "outputs": [
    {
     "data": {
      "text/plain": [
       "[2, 8, 24, 6, 5]"
      ]
     },
     "execution_count": 25,
     "metadata": {},
     "output_type": "execute_result"
    }
   ],
   "source": [
    "l1 = [2,8,6,5]\n",
    "l1.insert(2,24) # Insert object before index\n",
    "l1 "
   ]
  },
  {
   "cell_type": "markdown",
   "id": "3553bf07",
   "metadata": {},
   "source": [
    "Q.[11] : What are the two methods for removing items from a list?\n",
    "\n",
    "Ans:-  \n",
    "         \n",
    "     remove -> Remove first occurrence of value.\n",
    "        pop -> Remove and return item at index (default last)."
   ]
  },
  {
   "cell_type": "code",
   "execution_count": 28,
   "id": "4ab2455c",
   "metadata": {},
   "outputs": [
    {
     "data": {
      "text/plain": [
       "[20, 'dk', True, 24.1]"
      ]
     },
     "execution_count": 28,
     "metadata": {},
     "output_type": "execute_result"
    }
   ],
   "source": [
    "l = [20,\"dk\",True,24.1,25]\n",
    "l.pop(4)\n",
    "l"
   ]
  },
  {
   "cell_type": "code",
   "execution_count": 32,
   "id": "7cfaef37",
   "metadata": {},
   "outputs": [
    {
     "data": {
      "text/plain": [
       "[20, 'dk', True, 24.1, 32, 28]"
      ]
     },
     "execution_count": 32,
     "metadata": {},
     "output_type": "execute_result"
    }
   ],
   "source": [
    "l = [20,\"dk\",True,24.1,28,32,28]\n",
    "l.remove(28)\n",
    "l"
   ]
  },
  {
   "cell_type": "markdown",
   "id": "db17a07e",
   "metadata": {},
   "source": [
    "Q.[12] : Describe how list values and string values are identical.\n",
    "    \n",
    "Ans:- \n",
    "\n",
    "     -> Both list and string can be passed to len()\n",
    "     -> Both Have indexes and slices\n",
    "     -> Can be used in for loops\n",
    "     -> Can be concatenated or replicated\n",
    "     -> Can be used with the in and not in operators"
   ]
  },
  {
   "cell_type": "markdown",
   "id": "d0ff028a",
   "metadata": {},
   "source": [
    "Q.[13]: What's the difference between tuples and lists?\n",
    "\n",
    "Ans:- Following are the important differences between List and Tuple.\n",
    "\n",
    "          LIST                                                                \n",
    "     -> List is mutable.                            \n",
    "     -> List iteration is slower and is time consuming.\n",
    "     -> List is useful for insertion and deletion operations.\n",
    "     -> List consumes more memory.\n",
    "     -> List provides many in-built methods.\n",
    "     -> List operations are more error prone.\n",
    "     \n",
    "          TUPLE\n",
    "     -> Tuple is immutable.\n",
    "     -> Tuple iteration is faster.\n",
    "     -> Tuple is useful for readonly operations like accessing elements.\n",
    "     -> Tuples consumes less memory.\n",
    "     -> Tuples have less in-built methods.\n",
    "     -> Tuples operations are safe."
   ]
  },
  {
   "cell_type": "markdown",
   "id": "cd8fb7f0",
   "metadata": {},
   "source": [
    "Q.[14] : How do you type a tuple value that only contains the integer 42?\n",
    "\n",
    "Ans:- (42,)"
   ]
  },
  {
   "cell_type": "code",
   "execution_count": 35,
   "id": "eacdfb5f",
   "metadata": {},
   "outputs": [
    {
     "data": {
      "text/plain": [
       "(42,)"
      ]
     },
     "execution_count": 35,
     "metadata": {},
     "output_type": "execute_result"
    }
   ],
   "source": [
    "tup = (42,)\n",
    "tup"
   ]
  },
  {
   "cell_type": "markdown",
   "id": "a73b04ee",
   "metadata": {},
   "source": [
    "Q.[15] : How do you get a list value's tuple form? How do you get a tuple value's list form?\n",
    "\n",
    "Ans:-  By using tuple() and list() functions"
   ]
  },
  {
   "cell_type": "code",
   "execution_count": 37,
   "id": "50bb62a6",
   "metadata": {},
   "outputs": [
    {
     "data": {
      "text/plain": [
       "(20, 'dk', True, 24.1, 25)"
      ]
     },
     "execution_count": 37,
     "metadata": {},
     "output_type": "execute_result"
    }
   ],
   "source": [
    "l = [20,\"dk\",True,24.1,25]\n",
    "l = tuple(l)\n",
    "l"
   ]
  },
  {
   "cell_type": "code",
   "execution_count": 39,
   "id": "045bc678",
   "metadata": {},
   "outputs": [
    {
     "data": {
      "text/plain": [
       "[20, 'dk', True, 24.1, 25]"
      ]
     },
     "execution_count": 39,
     "metadata": {},
     "output_type": "execute_result"
    }
   ],
   "source": [
    "l1 = (20,\"dk\",True,24.1,25)\n",
    "l1 = list(l1)\n",
    "l1"
   ]
  },
  {
   "cell_type": "markdown",
   "id": "956ecce3",
   "metadata": {},
   "source": [
    "Q.[16] : Variables that \"contain\" list values are not necessarily lists themselves. Instead, what do they contain?\n",
    "\n",
    "Ans:- They contain references to list values"
   ]
  },
  {
   "cell_type": "markdown",
   "id": "efe1682e",
   "metadata": {},
   "source": [
    "Q.[17] : How do you distinguish between copy.copy() and copy.deepcopy()?\n",
    "\n",
    "Ans:- \n",
    "\n",
    "    -> The copy.copy() function will do a shallow copy of a list, \n",
    "    -> The copy.deepcopy() function will do a deep copy of a list. only copy.deepcopy() will duplicate any lists inside the \n",
    "       list"
   ]
  },
  {
   "cell_type": "code",
   "execution_count": null,
   "id": "4a5a3c0d",
   "metadata": {},
   "outputs": [],
   "source": []
  }
 ],
 "metadata": {
  "kernelspec": {
   "display_name": "Python 3 (ipykernel)",
   "language": "python",
   "name": "python3"
  },
  "language_info": {
   "codemirror_mode": {
    "name": "ipython",
    "version": 3
   },
   "file_extension": ".py",
   "mimetype": "text/x-python",
   "name": "python",
   "nbconvert_exporter": "python",
   "pygments_lexer": "ipython3",
   "version": "3.9.12"
  }
 },
 "nbformat": 4,
 "nbformat_minor": 5
}
